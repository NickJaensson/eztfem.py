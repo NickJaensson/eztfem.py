{
 "cells": [
  {
   "cell_type": "code",
   "execution_count": null,
   "metadata": {},
   "outputs": [],
   "source": [
    "# Poisson problem on a unit square with Dirichlet boundary conditions\n",
    "# Manufactured solution.\n",
    "\n",
    "import numpy as np\n",
    "import eztfem as ezt\n",
    "from func import func\n",
    "from scipy.sparse.linalg import spsolve"
   ]
  },
  {
   "cell_type": "code",
   "execution_count": null,
   "metadata": {},
   "outputs": [],
   "source": [
    "# create mesh\n",
    "mesh = ezt.quadrilateral2d([20, 20], 'quad9')"
   ]
  },
  {
   "cell_type": "code",
   "execution_count": null,
   "metadata": {},
   "outputs": [],
   "source": [
    "# plot the mesh including curve numbers and point numbers\n",
    "ezt.plot_points_curves(mesh)"
   ]
  },
  {
   "cell_type": "code",
   "execution_count": null,
   "metadata": {},
   "outputs": [],
   "source": [
    "# define the problem\n",
    "elementdof = np.array([[1, 1, 1, 1, 1, 1, 1, 1, 1],\n",
    "                       [2, 2, 2, 2, 2, 2, 2, 2, 2 ]], dtype=int).transpose()\n",
    "problem = ezt.Problem(mesh, elementdof, nphysq=1)"
   ]
  },
  {
   "cell_type": "code",
   "execution_count": null,
   "metadata": {},
   "outputs": [],
   "source": [
    "# user struct for setting problem coefficients, ...\n",
    "user = ezt.User()\n",
    "user.coorsys = 0\n",
    "user.alpha = 1\n",
    "user.funcnr = 4\n",
    "user.func = func"
   ]
  },
  {
   "cell_type": "code",
   "execution_count": null,
   "metadata": {},
   "outputs": [],
   "source": [
    "# define Gauss integration and basis functions\n",
    "shape = 'quad'\n",
    "user.xr, user.wg = ezt.gauss_legendre(shape, n=3)\n",
    "user.phi, user.dphi = ezt.basis_function(shape, 'Q2', user.xr)"
   ]
  },
  {
   "cell_type": "code",
   "execution_count": null,
   "metadata": {},
   "outputs": [],
   "source": [
    "# assemble the system matrix and vector\n",
    "A, f = ezt.build_system(mesh, problem, ezt.poisson_elem, user)"
   ]
  },
  {
   "cell_type": "code",
   "execution_count": null,
   "metadata": {},
   "outputs": [],
   "source": [
    "# define essential boundary conditions (Dirichlet)\n",
    "iess = ezt.define_essential(mesh, problem, 'curves', [0, 1, 2, 3])\n",
    "\n",
    "# fill values for the essential boundary conditions\n",
    "uess = ezt.fill_system_vector(mesh, problem, 'curves', [0, 1, 2, 3], func,\n",
    "                                funcnr=3)\n",
    "\n",
    "# apply essential boundary conditions to the system\n",
    "ezt.apply_essential(A, f, uess, iess)"
   ]
  },
  {
   "cell_type": "code",
   "execution_count": null,
   "metadata": {},
   "outputs": [],
   "source": [
    "# solve the system\n",
    "u = spsolve(A.tocsr(), f)"
   ]
  },
  {
   "cell_type": "code",
   "execution_count": null,
   "metadata": {},
   "outputs": [],
   "source": [
    "# compare with exact solution\n",
    "print('Difference with exact solution:')\n",
    "uex = ezt.fill_system_vector(mesh, problem, 'nodes',\n",
    "                                np.arange(mesh.nnodes), func, funcnr=3)\n",
    "\n",
    "maxdiff = max(abs(u-uex))\n",
    "print(maxdiff)"
   ]
  },
  {
   "cell_type": "code",
   "execution_count": null,
   "metadata": {},
   "outputs": [],
   "source": [
    "# gradient (dudx,dudy) of the solution\n",
    "xr = ezt.refcoor_nodal_points(mesh)\n",
    "[user.phi, user.dphi] = ezt.basis_function('quad', 'Q2', xr)\n",
    "user.u = u\n",
    "\n",
    "gradu = ezt.deriv_vector(mesh, problem, ezt.poisson_deriv, user)"
   ]
  },
  {
   "cell_type": "code",
   "execution_count": null,
   "metadata": {},
   "outputs": [],
   "source": [
    "# create a PyVista mesh for visualizing results\n",
    "mesh_pv = ezt.generate_pyvista_mesh(mesh)"
   ]
  },
  {
   "cell_type": "code",
   "execution_count": null,
   "metadata": {},
   "outputs": [],
   "source": [
    "# plot the mesh in Pyvista\n",
    "ezt.plot_mesh_pv(mesh_pv, show_edges=True, window_size=(800, 400))"
   ]
  },
  {
   "cell_type": "code",
   "execution_count": null,
   "metadata": {},
   "outputs": [],
   "source": [
    "# plot the solution over a line\n",
    "points = [[0.0, 0.3, 0.0], [1.0, 0.3, 0.0]]\n",
    "data_sample = ezt.plot_sol_over_line(mesh_pv, problem, u, points, npoints=200) #, plot_mesh=True)\n"
   ]
  },
  {
   "cell_type": "code",
   "execution_count": null,
   "metadata": {},
   "outputs": [],
   "source": [
    "# plot the solution field\n",
    "ezt.plot_sol(mesh_pv, problem, u, show_scalar_bar=True, n_colors=16,\n",
    "             window_size=(800, 400))"
   ]
  }
 ],
 "metadata": {
  "kernelspec": {
   "display_name": "venv (3.13.7)",
   "language": "python",
   "name": "python3"
  },
  "language_info": {
   "codemirror_mode": {
    "name": "ipython",
    "version": 3
   },
   "file_extension": ".py",
   "mimetype": "text/x-python",
   "name": "python",
   "nbconvert_exporter": "python",
   "pygments_lexer": "ipython3",
   "version": "3.13.7"
  }
 },
 "nbformat": 4,
 "nbformat_minor": 2
}
