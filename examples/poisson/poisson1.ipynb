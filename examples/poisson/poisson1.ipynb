{
 "cells": [
  {
   "cell_type": "code",
   "execution_count": 13,
   "metadata": {},
   "outputs": [],
   "source": [
    "# Poisson problem on a unit square with Dirichlet boundary conditions\n",
    "# Manufactured solution.\n",
    "\n",
    "import sys\n",
    "sys.path.append('.')\n",
    "sys.path.append('..')\n",
    "sys.path.append('../..')\n",
    "\n",
    "import numpy as np\n",
    "import eztfem as ezt\n",
    "from examples.poisson.func import func\n",
    "from scipy.sparse.linalg import spsolve"
   ]
  },
  {
   "cell_type": "code",
   "execution_count": 14,
   "metadata": {},
   "outputs": [
    {
     "name": "stdout",
     "output_type": "stream",
     "text": [
      "mesh\n",
      "rectangle_quad9\n"
     ]
    }
   ],
   "source": [
    "# create mesh\n",
    "\n",
    "print('mesh')\n",
    "mesh = ezt.quadrilateral2d([20, 20], 'quad9')"
   ]
  },
  {
   "cell_type": "code",
   "execution_count": 15,
   "metadata": {},
   "outputs": [
    {
     "name": "stdout",
     "output_type": "stream",
     "text": [
      "problem_definition\n"
     ]
    }
   ],
   "source": [
    "# define the problem\n",
    "\n",
    "print('problem_definition')\n",
    "elementdof = np.array([[1, 1, 1, 1, 1, 1, 1, 1, 1],\n",
    "                       [2, 2, 2, 2, 2, 2, 2, 2, 2]], dtype=int).transpose()\n",
    "problem = ezt.Problem(mesh, elementdof, nphysq=1)"
   ]
  },
  {
   "cell_type": "code",
   "execution_count": 16,
   "metadata": {},
   "outputs": [
    {
     "name": "stdout",
     "output_type": "stream",
     "text": [
      "gauss_legendre\n",
      "basis_function phi\n"
     ]
    }
   ],
   "source": [
    "# define Gauss integration and basis functions\n",
    "\n",
    "user = ezt.User()\n",
    "shape = 'quad'\n",
    "\n",
    "print('gauss_legendre')\n",
    "user.xr, user.wg = ezt.gauss_legendre(shape, n=3)\n",
    "\n",
    "print('basis_function phi')\n",
    "user.phi, user.dphi = ezt.basis_function(shape, 'Q2', user.xr)"
   ]
  },
  {
   "cell_type": "code",
   "execution_count": 17,
   "metadata": {},
   "outputs": [],
   "source": [
    "# user struct for setting problem coefficients, ...\n",
    "\n",
    "user.coorsys = 0\n",
    "user.alpha = 1\n",
    "user.funcnr = 4\n",
    "user.func = func"
   ]
  },
  {
   "cell_type": "code",
   "execution_count": 18,
   "metadata": {},
   "outputs": [
    {
     "name": "stdout",
     "output_type": "stream",
     "text": [
      "build_system\n"
     ]
    }
   ],
   "source": [
    "# assemble the system matrix and vector\n",
    "\n",
    "print('build_system')\n",
    "A, f = ezt.build_system(mesh, problem, ezt.poisson_elem, user)"
   ]
  },
  {
   "cell_type": "code",
   "execution_count": 19,
   "metadata": {},
   "outputs": [
    {
     "name": "stdout",
     "output_type": "stream",
     "text": [
      "define_essential\n",
      "fill_system_vector\n",
      "apply_essential\n"
     ]
    }
   ],
   "source": [
    "# define essential boundary conditions (Dirichlet)\n",
    "\n",
    "print('define_essential')\n",
    "iess = ezt.define_essential(mesh, problem, 'curves', [0, 1, 2, 3])\n",
    "\n",
    "# fill values for the essential boundary conditions\n",
    "\n",
    "print('fill_system_vector')\n",
    "uess = ezt.fill_system_vector(mesh, problem, 'curves', [0, 1, 2, 3], func,\n",
    "                                funcnr=3)\n",
    "\n",
    "# apply essential boundary conditions to the system\n",
    "\n",
    "print('apply_essential')\n",
    "ezt.apply_essential(A, f, uess, iess)"
   ]
  },
  {
   "cell_type": "code",
   "execution_count": 20,
   "metadata": {},
   "outputs": [
    {
     "name": "stdout",
     "output_type": "stream",
     "text": [
      "solve\n"
     ]
    }
   ],
   "source": [
    "# solve the system\n",
    "\n",
    "print('solve')\n",
    "u = spsolve(A.tocsr(), f)"
   ]
  },
  {
   "cell_type": "code",
   "execution_count": 21,
   "metadata": {},
   "outputs": [
    {
     "name": "stdout",
     "output_type": "stream",
     "text": [
      "Difference with exact solution:\n",
      "4.071378136849546e-07\n"
     ]
    }
   ],
   "source": [
    "# compare with exact solution\n",
    "\n",
    "print('Difference with exact solution:')\n",
    "uex = ezt.fill_system_vector(mesh, problem, 'nodes',\n",
    "                                np.arange(mesh.nnodes), func, funcnr=3)\n",
    "\n",
    "maxdiff = max(abs(u-uex))\n",
    "print(maxdiff)"
   ]
  },
  {
   "cell_type": "code",
   "execution_count": 22,
   "metadata": {},
   "outputs": [
    {
     "name": "stdout",
     "output_type": "stream",
     "text": [
      "gradient (dudx,dudy)\n"
     ]
    }
   ],
   "source": [
    "# gradient (dudx,dudy) of the solution\n",
    "\n",
    "print('gradient (dudx,dudy)')\n",
    "xr = ezt.refcoor_nodal_points(mesh)\n",
    "[user.phi, user.dphi] = ezt.basis_function('quad', 'Q2', xr)\n",
    "user.u = u\n",
    "\n",
    "gradu = ezt.deriv_vector(mesh, problem, ezt.poisson_deriv, user)"
   ]
  },
  {
   "cell_type": "code",
   "execution_count": 23,
   "metadata": {},
   "outputs": [
    {
     "data": {
      "application/vnd.jupyter.widget-view+json": {
       "model_id": "e4b285e6233a4879a37460f69656f5bf",
       "version_major": 2,
       "version_minor": 0
      },
      "text/plain": [
       "Widget(value='<iframe src=\"http://localhost:62874/index.html?ui=P_0x13e6951f0_2&reconnect=auto\" class=\"pyvista…"
      ]
     },
     "metadata": {},
     "output_type": "display_data"
    }
   ],
   "source": [
    "mesh_pv = ezt.generate_pyvista_mesh(mesh)\n",
    "ezt.plot_mesh(mesh_pv, show_edges=True)"
   ]
  },
  {
   "cell_type": "code",
   "execution_count": 24,
   "metadata": {},
   "outputs": [
    {
     "data": {
      "application/vnd.jupyter.widget-view+json": {
       "model_id": "3e07fcd78f864512ac7df97b1bcc2eab",
       "version_major": 2,
       "version_minor": 0
      },
      "text/plain": [
       "Widget(value='<iframe src=\"http://localhost:62874/index.html?ui=P_0x1439def90_3&reconnect=auto\" class=\"pyvista…"
      ]
     },
     "metadata": {},
     "output_type": "display_data"
    }
   ],
   "source": [
    "ezt.plot_sol(mesh_pv, problem, u, show_scalar_bar=True, n_colors=16)"
   ]
  }
 ],
 "metadata": {
  "kernelspec": {
   "display_name": "my_python",
   "language": "python",
   "name": "python3"
  },
  "language_info": {
   "codemirror_mode": {
    "name": "ipython",
    "version": 3
   },
   "file_extension": ".py",
   "mimetype": "text/x-python",
   "name": "python",
   "nbconvert_exporter": "python",
   "pygments_lexer": "ipython3",
   "version": "3.12.6"
  }
 },
 "nbformat": 4,
 "nbformat_minor": 2
}
