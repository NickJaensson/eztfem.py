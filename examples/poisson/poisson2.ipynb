{
 "cells": [
  {
   "cell_type": "code",
   "execution_count": null,
   "id": "5d8d16bc",
   "metadata": {},
   "outputs": [],
   "source": [
    "# Poisson problem on a square [-1,1]x[-1,1] with Dirichlet boundary conditions\n",
    "# This problem solves Example 1.1.1 of the book of Elman et al.\n",
    "\n",
    "import numpy as np\n",
    "import eztfem as ezt\n",
    "from func import func\n",
    "from scipy.sparse.linalg import spsolve"
   ]
  },
  {
   "cell_type": "code",
   "execution_count": null,
   "id": "a6159311",
   "metadata": {},
   "outputs": [],
   "source": [
    "# create mesh\n",
    "mesh = ezt.quadrilateral2d([40, 40], 'quad4', origin=np.array([-1, -1]),\n",
    "                            length=np.array([2, 2]))"
   ]
  },
  {
   "cell_type": "code",
   "execution_count": null,
   "id": "141aacb6",
   "metadata": {},
   "outputs": [],
   "source": [
    "# define the problem\n",
    "elementdof = np.array([[1, 1, 1, 1],\n",
    "                        [2, 2, 2, 2]], dtype=int).transpose()\n",
    "problem = ezt.Problem(mesh, elementdof, nphysq=1)"
   ]
  },
  {
   "cell_type": "code",
   "execution_count": null,
   "id": "2250c8a4",
   "metadata": {},
   "outputs": [],
   "source": [
    "# user struct for setting problem coefficients, ...\n",
    "user = ezt.User()\n",
    "user.coorsys = 0\n",
    "user.alpha = 1\n",
    "user.funcnr = 5\n",
    "user.func = func"
   ]
  },
  {
   "cell_type": "code",
   "execution_count": null,
   "id": "cb1e1e10",
   "metadata": {},
   "outputs": [],
   "source": [
    "# define Gauss integration and basis functions\n",
    "shape = 'quad'\n",
    "user.xr, user.wg = ezt.gauss_legendre(shape, n=2)\n",
    "user.phi, user.dphi = ezt.basis_function(shape, 'Q1', user.xr)"
   ]
  },
  {
   "cell_type": "code",
   "execution_count": null,
   "id": "24f5c340",
   "metadata": {},
   "outputs": [],
   "source": [
    "# assemble the system matrix and vector\n",
    "A, f = ezt.build_system(mesh, problem, ezt.poisson_elem, user)"
   ]
  },
  {
   "cell_type": "code",
   "execution_count": null,
   "id": "d0407c2a",
   "metadata": {},
   "outputs": [],
   "source": [
    "# define essential boundary conditions (Dirichlet)\n",
    "iess = ezt.define_essential(mesh, problem, 'curves', [0, 1, 2, 3])\n",
    "\n",
    "# fill values for the essential boundary conditions\n",
    "uess = np.zeros([problem.numdegfd])\n",
    "\n",
    "# apply essential boundary conditions to the system\n",
    "ezt.apply_essential(A, f, uess, iess)"
   ]
  },
  {
   "cell_type": "code",
   "execution_count": null,
   "id": "428de52f",
   "metadata": {},
   "outputs": [],
   "source": [
    "# solve the system\n",
    "u = spsolve(A.tocsr(), f)"
   ]
  },
  {
   "cell_type": "code",
   "execution_count": null,
   "id": "ec58547c",
   "metadata": {},
   "outputs": [],
   "source": [
    "# plot the solution\n",
    "mesh_pv = ezt.generate_pyvista_mesh(mesh)\n",
    "ezt.plot_sol(mesh_pv, problem, u, show_scalar_bar=True, n_colors=16,\n",
    "             window_size=(800, 400))"
   ]
  },
  {
   "cell_type": "code",
   "execution_count": null,
   "id": "cfc2b287",
   "metadata": {},
   "outputs": [],
   "source": [
    "# maximum value\n",
    "print('Maximum value ', max(u))"
   ]
  }
 ],
 "metadata": {
  "kernelspec": {
   "display_name": "venv (3.13.7)",
   "language": "python",
   "name": "python3"
  },
  "language_info": {
   "codemirror_mode": {
    "name": "ipython",
    "version": 3
   },
   "file_extension": ".py",
   "mimetype": "text/x-python",
   "name": "python",
   "nbconvert_exporter": "python",
   "pygments_lexer": "ipython3",
   "version": "3.13.7"
  }
 },
 "nbformat": 4,
 "nbformat_minor": 5
}
