{
 "cells": [
  {
   "cell_type": "code",
   "execution_count": null,
   "id": "89a3490a",
   "metadata": {},
   "outputs": [],
   "source": [
    "# Poisson problem on an L-shape domain with Dirichlet boundary conditions\n",
    "# This problem solves Example 1.1.2 of the book of Elman et al.\n",
    "\n",
    "import numpy as np\n",
    "import eztfem as ezt\n",
    "from func import func\n",
    "from scipy.sparse.linalg import spsolve\n"
   ]
  },
  {
   "cell_type": "code",
   "execution_count": null,
   "id": "8c292483",
   "metadata": {},
   "outputs": [],
   "source": [
    "# create mesh\n",
    "mesh = ezt.l_shape2d([20, 20, 20, 20], 'quad4',\n",
    "                     factor=np.array([10, 10, 10, 10]))\n"
   ]
  },
  {
   "cell_type": "code",
   "execution_count": null,
   "id": "9ad71a7b",
   "metadata": {},
   "outputs": [],
   "source": [
    "# define the problem\n",
    "elementdof = np.array([[1, 1, 1, 1],\n",
    "                       [2, 2, 2, 2]], dtype=int).transpose()\n",
    "problem = ezt.Problem(mesh, elementdof, nphysq=1)\n"
   ]
  },
  {
   "cell_type": "code",
   "execution_count": null,
   "id": "46312f21",
   "metadata": {},
   "outputs": [],
   "source": [
    "# define Gauss integration and basis functions\n",
    "user = ezt.User()\n",
    "shape = 'quad'\n",
    "user.xr, user.wg = ezt.gauss_legendre(shape, n=2)\n",
    "user.phi, user.dphi = ezt.basis_function(shape, 'Q1', user.xr)\n"
   ]
  },
  {
   "cell_type": "code",
   "execution_count": null,
   "id": "d6a2b014",
   "metadata": {},
   "outputs": [],
   "source": [
    "# user struct for setting problem coefficients, ...\n",
    "user.coorsys = 0\n",
    "user.alpha = 1\n",
    "user.funcnr = 5\n",
    "user.func = func\n"
   ]
  },
  {
   "cell_type": "code",
   "execution_count": null,
   "id": "48ce368d",
   "metadata": {},
   "outputs": [],
   "source": [
    "# assemble the system matrix and vector\n",
    "A, f = ezt.build_system(mesh, problem, ezt.poisson_elem, user)\n"
   ]
  },
  {
   "cell_type": "code",
   "execution_count": null,
   "id": "c343252d",
   "metadata": {},
   "outputs": [],
   "source": [
    "# define essential boundary conditions (Dirichlet)\n",
    "iess = ezt.define_essential(mesh, problem, 'curves',\n",
    "                            [0, 1, 2, 3, 4, 5, 6, 7])\n"
   ]
  },
  {
   "cell_type": "code",
   "execution_count": null,
   "id": "575ad9cc",
   "metadata": {},
   "outputs": [],
   "source": [
    "# fill values for the essential boundary conditions\n",
    "uess = np.zeros([problem.numdegfd])\n"
   ]
  },
  {
   "cell_type": "code",
   "execution_count": null,
   "id": "604ff046",
   "metadata": {},
   "outputs": [],
   "source": [
    "# apply essential boundary conditions to the system\n",
    "ezt.apply_essential(A, f, uess, iess)\n"
   ]
  },
  {
   "cell_type": "code",
   "execution_count": null,
   "id": "9d66228d",
   "metadata": {},
   "outputs": [],
   "source": [
    "# solve the system\n",
    "u = spsolve(A.tocsr(), f)\n"
   ]
  },
  {
   "cell_type": "code",
   "execution_count": null,
   "id": "b95dd224",
   "metadata": {},
   "outputs": [],
   "source": [
    "# maximum value\n",
    "print('Maximum value ', np.max(u))\n"
   ]
  },
  {
   "cell_type": "code",
   "execution_count": null,
   "id": "61151f1f",
   "metadata": {},
   "outputs": [],
   "source": [
    "# create a PyVista mesh for visualizing results\n",
    "mesh_pv = ezt.generate_pyvista_mesh(mesh)\n"
   ]
  },
  {
   "cell_type": "code",
   "execution_count": null,
   "id": "c4ca0d53",
   "metadata": {},
   "outputs": [],
   "source": [
    "# plot the solution field\n",
    "ezt.plot_sol(mesh_pv, problem, u, show_scalar_bar=True, n_colors=16,\n",
    "             window_size=(800, 400))\n"
   ]
  }
 ],
 "metadata": {
  "kernelspec": {
   "display_name": "venv (3.13.7)",
   "language": "python",
   "name": "python3"
  },
  "language_info": {
   "codemirror_mode": {
    "name": "ipython",
    "version": 3
   },
   "file_extension": ".py",
   "mimetype": "text/x-python",
   "name": "python",
   "nbconvert_exporter": "python",
   "pygments_lexer": "ipython3",
   "version": "3.13.7"
  }
 },
 "nbformat": 4,
 "nbformat_minor": 5
}
