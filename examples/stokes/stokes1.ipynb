{
 "cells": [
  {
   "cell_type": "code",
   "execution_count": null,
   "metadata": {},
   "outputs": [],
   "source": [
    "# Poisson problem on a unit square with Dirichlet boundary conditions\n",
    "# Manufactured solution.\n",
    "\n",
    "import numpy as np\n",
    "import eztfem as ezt\n",
    "from func import func\n",
    "from scipy.sparse.linalg import spsolve"
   ]
  },
  {
   "cell_type": "code",
   "execution_count": null,
   "metadata": {},
   "outputs": [],
   "source": [
    "# create mesh\n",
    "mesh = ezt.quadrilateral2d([20, 20], 'quad9')"
   ]
  },
  {
   "cell_type": "code",
   "execution_count": null,
   "metadata": {},
   "outputs": [],
   "source": [
    "# define the problem\n",
    "elementdof = np.array([[2, 2, 2, 2, 2, 2, 2, 2, 2],\n",
    "                       [1, 0, 1, 0, 1, 0, 1, 0, 0],\n",
    "                       [1, 1, 1, 1, 1, 1, 1, 1, 1]], dtype=int).transpose()\n",
    "problem = ezt.Problem(mesh, elementdof, nphysq=2)"
   ]
  },
  {
   "cell_type": "code",
   "execution_count": null,
   "metadata": {},
   "outputs": [],
   "source": [
    "# user struct for setting problem coefficients, ...\n",
    "user = ezt.User()\n",
    "user.coorsys = 0\n",
    "user.mu = 1\n",
    "user.funcnr = 0\n",
    "user.func = func  # not used when funcnr == 0"
   ]
  },
  {
   "cell_type": "code",
   "execution_count": null,
   "metadata": {},
   "outputs": [],
   "source": [
    "# define Gauss integration and basis functions\n",
    "shape = 'quad'\n",
    "user.xr, user.wg = ezt.gauss_legendre(shape, n=3)\n",
    "user.phi, user.dphi = ezt.basis_function(shape, 'Q2', user.xr)\n",
    "user.psi, _ = ezt.basis_function(shape, 'Q1', user.xr)"
   ]
  },
  {
   "cell_type": "code",
   "execution_count": null,
   "metadata": {},
   "outputs": [],
   "source": [
    "# assemble the system matrix and vector\n",
    "A, f = ezt.build_system(mesh, problem, ezt.stokes_elem, user)"
   ]
  },
  {
   "cell_type": "code",
   "execution_count": null,
   "metadata": {},
   "outputs": [],
   "source": [
    "# define essential boundary conditions (Dirichlet)\n",
    "iess = ezt.define_essential(mesh, problem, 'curves', [0, 1, 2, 3], degfd=0)\n",
    "iess = ezt.define_essential(mesh, problem, 'curves', [0, 1, 2, 3], degfd=1,\n",
    "                            iessp=iess)\n",
    "iess = ezt.define_essential(mesh, problem, 'points', [0], physq=1,\n",
    "                            iessp=iess)\n"
   ]
  },
  {
   "cell_type": "code",
   "execution_count": null,
   "metadata": {},
   "outputs": [],
   "source": [
    "# fill values for the essential boundary conditions\n",
    "uess = ezt.fill_system_vector(mesh, problem, 'curves', [2], func, funcnr=5)\n",
    "\n",
    "# apply essential boundary conditions to the system\n",
    "ezt.apply_essential(A, f, uess, iess)"
   ]
  },
  {
   "cell_type": "code",
   "execution_count": null,
   "metadata": {},
   "outputs": [],
   "source": [
    "# solve the system\n",
    "u = spsolve(A.tocsr(), f)"
   ]
  },
  {
   "cell_type": "code",
   "execution_count": null,
   "metadata": {},
   "outputs": [],
   "source": [
    "# Pressure in all nodes for plotting\n",
    "xr = ezt.refcoor_nodal_points(mesh)\n",
    "user.psi, _ = ezt.basis_function('quad', 'Q1', xr)\n",
    "user.u = u\n",
    "pressure = ezt.deriv_vector(mesh, problem, ezt.stokes_pressure, user)"
   ]
  },
  {
   "cell_type": "code",
   "execution_count": null,
   "metadata": {},
   "outputs": [],
   "source": [
    "# derivatives of the velocity\n",
    "xr = ezt.refcoor_nodal_points(mesh)\n",
    "user.phi, user.dphi = ezt.basis_function('quad', 'Q2', xr)\n",
    "user.u = u\n",
    "\n",
    "user.comp = 0  # dudx\n",
    "dudx = ezt.deriv_vector(mesh, problem, ezt.stokes_deriv, user)\n",
    "user.comp = 1  # dudy\n",
    "dudy = ezt.deriv_vector(mesh, problem, ezt.stokes_deriv, user)\n",
    "user.comp = 2  # dvdx\n",
    "dvdx = ezt.deriv_vector(mesh, problem, ezt.stokes_deriv, user)\n",
    "user.comp = 3  # dvdy\n",
    "dvdy = ezt.deriv_vector(mesh, problem, ezt.stokes_deriv, user)\n",
    "user.comp = 4  # dvdx - dudy = vorticity\n",
    "omega = ezt.deriv_vector(mesh, problem, ezt.stokes_deriv, user)\n",
    "user.comp = 6  # divu, divergence of the velocity field\n",
    "divu = ezt.deriv_vector(mesh, problem, ezt.stokes_deriv, user)\n",
    "user.comp = 7  # gammadot, effective strain rate = sqrt(2II_D)\n",
    "gammadot = ezt.deriv_vector(mesh, problem, ezt.stokes_deriv, user)\n",
    "\n",
    "print(max(omega.u))"
   ]
  },
  {
   "cell_type": "code",
   "execution_count": null,
   "metadata": {},
   "outputs": [],
   "source": [
    "# create a PyVista mesh for visualizing results\n",
    "mesh_pv = ezt.generate_pyvista_mesh(mesh)"
   ]
  },
  {
   "cell_type": "code",
   "execution_count": null,
   "metadata": {},
   "outputs": [],
   "source": [
    "# plot the mesh in Pyvista\n",
    "ezt.plot_mesh_pv(mesh_pv, show_edges=True, window_size=(800, 400))"
   ]
  },
  {
   "cell_type": "code",
   "execution_count": null,
   "metadata": {},
   "outputs": [],
   "source": [
    "# plot the x-velocity field\n",
    "ezt.plot_sol(mesh_pv, problem, u, show_scalar_bar=True, n_colors=16,\n",
    "             window_size=(800, 400), physq=0, degfd=0)"
   ]
  },
  {
   "cell_type": "code",
   "execution_count": null,
   "metadata": {},
   "outputs": [],
   "source": [
    "# plot contours of the x-velocity\n",
    "ezt.plot_sol_contour(mesh_pv, problem, u, physq=0, degfd=0, nlevels=20)"
   ]
  },
  {
   "cell_type": "code",
   "execution_count": null,
   "metadata": {},
   "outputs": [],
   "source": [
    "# quiver plot of the velocity field\n",
    "ezt.plot_quiver(mesh_pv, problem, u, window_size=(800, 400), physq=0, \n",
    "                scale=0.1)"
   ]
  },
  {
   "cell_type": "code",
   "execution_count": null,
   "metadata": {},
   "outputs": [],
   "source": [
    "# plot the effective strain rate vector\n",
    "ezt.plot_vector(mesh_pv, problem, gammadot)"
   ]
  },
  {
   "cell_type": "code",
   "execution_count": null,
   "metadata": {},
   "outputs": [],
   "source": [
    "# contour plot of the effective strain rate\n",
    "ezt.plot_vector_contours(mesh_pv, problem, gammadot, nlevels=8)"
   ]
  },
  {
   "cell_type": "code",
   "execution_count": null,
   "metadata": {},
   "outputs": [],
   "source": [
    "# sample effective strain rate along a line\n",
    "points = [[0.0, 0.3, 0.0], [1.0, 0.3, 0.0]]\n",
    "_ = ezt.plot_vector_over_line(mesh_pv, problem, gammadot, points,\n",
    "                              plot_mesh=False)"
   ]
  }
 ],
 "metadata": {
  "kernelspec": {
   "display_name": "venv (3.13.7)",
   "language": "python",
   "name": "python3"
  },
  "language_info": {
   "codemirror_mode": {
    "name": "ipython",
    "version": 3
   },
   "file_extension": ".py",
   "mimetype": "text/x-python",
   "name": "python",
   "nbconvert_exporter": "python",
   "pygments_lexer": "ipython3",
   "version": "3.13.7"
  }
 },
 "nbformat": 4,
 "nbformat_minor": 2
}
