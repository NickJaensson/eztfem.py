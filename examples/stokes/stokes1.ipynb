{
 "cells": [
  {
   "cell_type": "code",
   "execution_count": 21,
   "metadata": {},
   "outputs": [],
   "source": [
    "# Poisson problem on a unit square with Dirichlet boundary conditions\n",
    "# Manufactured solution.\n",
    "\n",
    "import numpy as np\n",
    "import eztfem as ezt\n",
    "from func import func\n",
    "from scipy.sparse.linalg import spsolve"
   ]
  },
  {
   "cell_type": "code",
   "execution_count": 22,
   "metadata": {},
   "outputs": [
    {
     "name": "stdout",
     "output_type": "stream",
     "text": [
      "mesh\n",
      "rectangle_quad9\n"
     ]
    }
   ],
   "source": [
    "# create mesh\n",
    "\n",
    "print('mesh')\n",
    "mesh = ezt.quadrilateral2d([20, 20], 'quad9')"
   ]
  },
  {
   "cell_type": "code",
   "execution_count": 23,
   "metadata": {},
   "outputs": [
    {
     "name": "stdout",
     "output_type": "stream",
     "text": [
      "problem_definition\n"
     ]
    }
   ],
   "source": [
    "# define the problem\n",
    "\n",
    "print('problem_definition')\n",
    "elementdof = np.array([[2, 2, 2, 2, 2, 2, 2, 2, 2],\n",
    "                       [1, 0, 1, 0, 1, 0, 1, 0, 0],\n",
    "                       [1, 1, 1, 1, 1, 1, 1, 1, 1]], dtype=int).transpose()\n",
    "problem = ezt.Problem(mesh, elementdof, nphysq=2)"
   ]
  },
  {
   "cell_type": "code",
   "execution_count": 24,
   "metadata": {},
   "outputs": [
    {
     "name": "stdout",
     "output_type": "stream",
     "text": [
      "gauss_legendre\n",
      "basis_function phi\n",
      "basis_function psi\n"
     ]
    }
   ],
   "source": [
    "# define Gauss integration and basis functions\n",
    "\n",
    "user = ezt.User()\n",
    "shape = 'quad'\n",
    "\n",
    "print('gauss_legendre')\n",
    "user.xr, user.wg = ezt.gauss_legendre(shape, n=3)\n",
    "\n",
    "print('basis_function phi')\n",
    "user.phi, user.dphi = ezt.basis_function(shape, 'Q2', user.xr)\n",
    "\n",
    "print('basis_function psi')\n",
    "user.psi, _ = ezt.basis_function(shape, 'Q1', user.xr)"
   ]
  },
  {
   "cell_type": "code",
   "execution_count": 25,
   "metadata": {},
   "outputs": [],
   "source": [
    "# user struct for setting problem coefficients, ...\n",
    "\n",
    "user.coorsys = 0\n",
    "user.mu = 1\n",
    "user.funcnr = 0\n",
    "user.func = func  # not used when funcnr == 0"
   ]
  },
  {
   "cell_type": "code",
   "execution_count": 26,
   "metadata": {},
   "outputs": [
    {
     "name": "stdout",
     "output_type": "stream",
     "text": [
      "build_system\n"
     ]
    }
   ],
   "source": [
    "# assemble the system matrix and vector\n",
    "\n",
    "print('build_system')\n",
    "A, f = ezt.build_system(mesh, problem, ezt.stokes_elem, user)"
   ]
  },
  {
   "cell_type": "code",
   "execution_count": 27,
   "metadata": {},
   "outputs": [
    {
     "name": "stdout",
     "output_type": "stream",
     "text": [
      "define_essential\n"
     ]
    }
   ],
   "source": [
    "# define essential boundary conditions (Dirichlet)\n",
    "\n",
    "print('define_essential')\n",
    "iess = ezt.define_essential(mesh, problem, 'curves', [0, 1, 2, 3], degfd=0)\n",
    "iess = ezt.define_essential(mesh, problem, 'curves', [0, 1, 2, 3], degfd=1,\n",
    "                            iessp=iess)\n",
    "iess = ezt.define_essential(mesh, problem, 'points', [0], physq=1,\n",
    "                            iessp=iess)\n"
   ]
  },
  {
   "cell_type": "code",
   "execution_count": 28,
   "metadata": {},
   "outputs": [
    {
     "name": "stdout",
     "output_type": "stream",
     "text": [
      "fill_system_vector\n",
      "apply_essential\n"
     ]
    }
   ],
   "source": [
    "# fill values for the essential boundary conditions\n",
    "\n",
    "print('fill_system_vector')\n",
    "uess = ezt.fill_system_vector(mesh, problem, 'curves', [2], func, funcnr=5)\n",
    "\n",
    "# apply essential boundary conditions to the system\n",
    "\n",
    "print('apply_essential')\n",
    "ezt.apply_essential(A, f, uess, iess)"
   ]
  },
  {
   "cell_type": "code",
   "execution_count": 29,
   "metadata": {},
   "outputs": [
    {
     "name": "stdout",
     "output_type": "stream",
     "text": [
      "solve\n"
     ]
    }
   ],
   "source": [
    "# solve the system\n",
    "\n",
    "print('solve')\n",
    "u = spsolve(A.tocsr(), f)"
   ]
  },
  {
   "cell_type": "code",
   "execution_count": 30,
   "metadata": {},
   "outputs": [
    {
     "name": "stdout",
     "output_type": "stream",
     "text": [
      "pressure in nodes\n"
     ]
    }
   ],
   "source": [
    "# Pressure in all nodes for plotting\n",
    "\n",
    "print('pressure in nodes')\n",
    "xr = ezt.refcoor_nodal_points(mesh)\n",
    "user.psi, _ = ezt.basis_function('quad', 'Q1', xr)\n",
    "user.u = u\n",
    "pressure = ezt.deriv_vector(mesh, problem, ezt.stokes_pressure, user)"
   ]
  },
  {
   "cell_type": "code",
   "execution_count": 31,
   "metadata": {},
   "outputs": [
    {
     "name": "stdout",
     "output_type": "stream",
     "text": [
      "velocity derivatives\n",
      "25.865650243176034\n"
     ]
    }
   ],
   "source": [
    "# derivatives of the velocity\n",
    "\n",
    "print('velocity derivatives')\n",
    "xr = ezt.refcoor_nodal_points(mesh)\n",
    "user.phi, user.dphi = ezt.basis_function('quad', 'Q2', xr)\n",
    "user.u = u\n",
    "\n",
    "user.comp = 0  # dudx\n",
    "dudx = ezt.deriv_vector(mesh, problem, ezt.stokes_deriv, user)\n",
    "user.comp = 1  # dudy\n",
    "dudy = ezt.deriv_vector(mesh, problem, ezt.stokes_deriv, user)\n",
    "user.comp = 2  # dvdx\n",
    "dvdx = ezt.deriv_vector(mesh, problem, ezt.stokes_deriv, user)\n",
    "user.comp = 3  # dvdy\n",
    "dvdy = ezt.deriv_vector(mesh, problem, ezt.stokes_deriv, user)\n",
    "user.comp = 4  # dvdx - dudy = vorticity\n",
    "omega = ezt.deriv_vector(mesh, problem, ezt.stokes_deriv, user)\n",
    "user.comp = 6  # divu, divergence of the velocity field\n",
    "divu = ezt.deriv_vector(mesh, problem, ezt.stokes_deriv, user)\n",
    "user.comp = 7  # gammadot, effective strain rate = sqrt(2II_D)\n",
    "gammadot = ezt.deriv_vector(mesh, problem, ezt.stokes_deriv, user)\n",
    "\n",
    "print(max(omega.u))"
   ]
  },
  {
   "cell_type": "code",
   "execution_count": 32,
   "metadata": {},
   "outputs": [
    {
     "data": {
      "application/vnd.jupyter.widget-view+json": {
       "model_id": "667a2366298345ef835c727ae605f362",
       "version_major": 2,
       "version_minor": 0
      },
      "text/plain": [
       "Widget(value='<iframe src=\"http://localhost:54368/index.html?ui=P_0x15fb54800_7&reconnect=auto\" class=\"pyvista…"
      ]
     },
     "metadata": {},
     "output_type": "display_data"
    }
   ],
   "source": [
    "mesh_pv = ezt.generate_pyvista_mesh(mesh)\n",
    "ezt.plot_mesh_pv(mesh_pv, show_edges=True, window_size=(800, 400))"
   ]
  },
  {
   "cell_type": "code",
   "execution_count": 33,
   "metadata": {},
   "outputs": [
    {
     "data": {
      "application/vnd.jupyter.widget-view+json": {
       "model_id": "84ae464275e74c9bb7f16b7298e5e5dc",
       "version_major": 2,
       "version_minor": 0
      },
      "text/plain": [
       "Widget(value='<iframe src=\"http://localhost:54368/index.html?ui=P_0x136a6e570_8&reconnect=auto\" class=\"pyvista…"
      ]
     },
     "metadata": {},
     "output_type": "display_data"
    }
   ],
   "source": [
    "ezt.plot_sol(mesh_pv, problem, u, show_scalar_bar=True, n_colors=16,\n",
    "             window_size=(800, 400), physq=0, degfd=0)"
   ]
  },
  {
   "cell_type": "code",
   "execution_count": 34,
   "metadata": {},
   "outputs": [
    {
     "data": {
      "application/vnd.jupyter.widget-view+json": {
       "model_id": "3ee4f3ac4490477ea0a2cf0f8fcd8ecb",
       "version_major": 2,
       "version_minor": 0
      },
      "text/plain": [
       "Widget(value='<iframe src=\"http://localhost:54368/index.html?ui=P_0x32642c560_9&reconnect=auto\" class=\"pyvista…"
      ]
     },
     "metadata": {},
     "output_type": "display_data"
    }
   ],
   "source": [
    "ezt.plot_sol_contour(mesh_pv, problem, u, physq=0, degfd=1, nlevels=20)"
   ]
  },
  {
   "cell_type": "code",
   "execution_count": 35,
   "metadata": {},
   "outputs": [
    {
     "data": {
      "application/vnd.jupyter.widget-view+json": {
       "model_id": "9108b163c2364dd3914edc3ba7bba273",
       "version_major": 2,
       "version_minor": 0
      },
      "text/plain": [
       "Widget(value='<iframe src=\"http://localhost:54368/index.html?ui=P_0x32642d460_10&reconnect=auto\" class=\"pyvist…"
      ]
     },
     "metadata": {},
     "output_type": "display_data"
    }
   ],
   "source": [
    "ezt.plot_quiver(mesh_pv, problem, u, show_scalar_bar=True, n_colors=16,\n",
    "                window_size=(800, 400), physq=0, degfd=0)"
   ]
  },
  {
   "cell_type": "code",
   "execution_count": 36,
   "metadata": {},
   "outputs": [
    {
     "data": {
      "application/vnd.jupyter.widget-view+json": {
       "model_id": "23b32640bb5e4aa4807824d87fa016a7",
       "version_major": 2,
       "version_minor": 0
      },
      "text/plain": [
       "Widget(value='<iframe src=\"http://localhost:54368/index.html?ui=P_0x32642b830_11&reconnect=auto\" class=\"pyvist…"
      ]
     },
     "metadata": {},
     "output_type": "display_data"
    }
   ],
   "source": [
    "ezt.plot_vector(mesh_pv, problem, gammadot)"
   ]
  },
  {
   "cell_type": "code",
   "execution_count": 37,
   "metadata": {},
   "outputs": [
    {
     "data": {
      "application/vnd.jupyter.widget-view+json": {
       "model_id": "bb5e5fc7ad3d4fbfafd425986c88540f",
       "version_major": 2,
       "version_minor": 0
      },
      "text/plain": [
       "Widget(value='<iframe src=\"http://localhost:54368/index.html?ui=P_0x32642aed0_12&reconnect=auto\" class=\"pyvist…"
      ]
     },
     "metadata": {},
     "output_type": "display_data"
    }
   ],
   "source": [
    "ezt.plot_vector_contours(mesh_pv, problem, gammadot, nlevels=8)"
   ]
  },
  {
   "cell_type": "code",
   "execution_count": 40,
   "metadata": {},
   "outputs": [
    {
     "data": {
      "image/png": "[encoded data removed]",
      "text/plain": [
       "<Figure size 640x480 with 1 Axes>"
      ]
     },
     "metadata": {},
     "output_type": "display_data"
    }
   ],
   "source": [
    "points = [[0.0, 0.3, 0.0], [1.0, 0.3, 0.0]]\n",
    "_ = ezt.plot_vector_over_line(mesh_pv, problem, gammadot, points,\n",
    "                              plot_mesh=False)"
   ]
  }
 ],
 "metadata": {
  "kernelspec": {
   "display_name": "my_python",
   "language": "python",
   "name": "python3"
  },
  "language_info": {
   "codemirror_mode": {
    "name": "ipython",
    "version": 3
   },
   "file_extension": ".py",
   "mimetype": "text/x-python",
   "name": "python",
   "nbconvert_exporter": "python",
   "pygments_lexer": "ipython3",
   "version": "3.12.6"
  }
 },
 "nbformat": 4,
 "nbformat_minor": 2
}
