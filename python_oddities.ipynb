{
 "cells": [
  {
   "cell_type": "markdown",
   "metadata": {},
   "source": [
    "\n",
    "\n",
    "This file contains a number of Python oddities, especially for someone with a Fortran/Matlab background. This list is by no means complete, but should give someone beginning with Python an idea what to look out for."
   ]
  },
  {
   "cell_type": "markdown",
   "metadata": {},
   "source": [
    "**Zero-based indexing and slices**  \n",
    "Python uses *zero-based indexing* and when taking a \"slice\" of a list, the last index *is not* included (first index *is* included):"
   ]
  },
  {
   "cell_type": "code",
   "execution_count": 46,
   "metadata": {},
   "outputs": [
    {
     "name": "stdout",
     "output_type": "stream",
     "text": [
      "1\n",
      "[1, 2]\n",
      "3\n"
     ]
    }
   ],
   "source": [
    "a = [1,2,3]\n",
    "print(a[0]) # first element indexed by zero\n",
    "print(a[0:2]) # upper index not included when taking a slice (lower one is)\n",
    "print(a[-1]) # last value is indexed by -1, first before last by -2, etc."
   ]
  },
  {
   "cell_type": "markdown",
   "metadata": {},
   "source": [
    "**Python variables are references**  \n",
    "In Fortran/Matlab a variable can be seen as a bucket containing an object of a certain type and value. The variable and the object can be interpreted one and the same thing in this approach.\n",
    "\n",
    "In Python, a variable is always a *reference* to an object (hence Pythonistas use \"name\" instead of \"variable\"). The value of the variable is the value of the object it refers to. Objects in Python are either immutable or mutable."
   ]
  },
  {
   "cell_type": "markdown",
   "metadata": {},
   "source": [
    "**Immutable objects**  \n",
    "Objects of the fundamental data-types (int, float, bool and string) are all *immutable*: changing the value of the object is not possible. Assigning a new value to a variable that refers to an immutable object has the consequence that the variable will refer to a new, different, object. This behavior is visible in the following simple example:"
   ]
  },
  {
   "cell_type": "code",
   "execution_count": 47,
   "metadata": {},
   "outputs": [
    {
     "name": "stdout",
     "output_type": "stream",
     "text": [
      "changing b does not change a: 1 2\n"
     ]
    }
   ],
   "source": [
    "a = 1; \n",
    "b = a; \n",
    "b = 2; \n",
    "print('changing b does not change a:',a,b)\n",
    "c = 2"
   ]
  },
  {
   "cell_type": "markdown",
   "metadata": {},
   "source": [
    "Very useful is the id() function (from https://docs.python.org/3/library/functions.html#id): Return the “identity” of an object. This is an integer which is guaranteed to be unique and constant for this object during its lifetime. Two objects with non-overlapping lifetimes may have the same id() value. *CPython implementation detail: This is the address of the object in memory.*"
   ]
  },
  {
   "cell_type": "code",
   "execution_count": 48,
   "metadata": {},
   "outputs": [
    {
     "name": "stdout",
     "output_type": "stream",
     "text": [
      "id(a) = 4420242984\n",
      "id(b) = 4420243016\n",
      "id(c) = 4420243016\n"
     ]
    }
   ],
   "source": [
    "print('id(a) =',id(a))\n",
    "print('id(b) =',id(b)) # a and b refer to different objects (1 and 2)\n",
    "print('id(c) =',id(c)) # id(b)==id(c) since they both refer to 2"
   ]
  },
  {
   "cell_type": "markdown",
   "metadata": {},
   "source": [
    "A *tuple* is a container-like variable (can contain multiple, different, data-types) that is immutable:"
   ]
  },
  {
   "cell_type": "code",
   "execution_count": 49,
   "metadata": {},
   "outputs": [
    {
     "name": "stdout",
     "output_type": "stream",
     "text": [
      "1\n"
     ]
    }
   ],
   "source": [
    "a = 1, 2.0 # tuples are created using a comma (parentheses () are optional!)\n",
    "print(a[0])\n",
    "#a[0] = 2 # not allowed !"
   ]
  },
  {
   "cell_type": "markdown",
   "metadata": {},
   "source": [
    "**Mutable objects**  \n",
    "Python also has a other \"container-like\" data types (list, dict and set). At the deepest level, these will always contain objects of the fundamental (immutable) data-types, but the containers themselves are *mutable*: changing the variable can be interpreted as changing the value of the object to which the variable refers:"
   ]
  },
  {
   "cell_type": "code",
   "execution_count": 50,
   "metadata": {},
   "outputs": [
    {
     "name": "stdout",
     "output_type": "stream",
     "text": [
      "[1, 2, 3] 4468478592\n",
      "[2, 2, 3] 4468478592\n"
     ]
    }
   ],
   "source": [
    "lst = [1,2,3]\n",
    "print(lst,id(lst))\n",
    "lst[0] = 2\n",
    "print(lst,id(lst)) # value changed but ID remained the same"
   ]
  },
  {
   "cell_type": "markdown",
   "metadata": {},
   "source": [
    "An important behavior in python is that assigning a new variable to an existing *mutable* variable only creates an alias. Thus changing the value of the object to which is being referred will be visible in both variables:"
   ]
  },
  {
   "cell_type": "code",
   "execution_count": 51,
   "metadata": {},
   "outputs": [
    {
     "name": "stdout",
     "output_type": "stream",
     "text": [
      "[2, 2, 3]\n",
      "4463295040\n",
      "4463295040\n"
     ]
    }
   ],
   "source": [
    "lst = [1,2,3]\n",
    "lst2 = lst\n",
    "lst[0] = 2\n",
    "print(lst)\n",
    "print(id(lst))\n",
    "print(id(lst2)) # lst and lst2 refer to the same object"
   ]
  },
  {
   "cell_type": "markdown",
   "metadata": {},
   "source": [
    "**Changing arguments of function**  \n",
    "In programming there are generally two ways of thinking about variables that go into functions: the variables are passed by value, or by reference (this is a huge simplificaiton of a complicated topic).\n",
    "  \n",
    "*Passing by value* is easiest interpreted as making a copy of the argument as it enters the function. Modifying the variable therefore does not change the variable outside the function. This is how Matlab functions work, and output variables thus need to be explicitly specified. Note: in practice a copy is only needed if the variable is modified (https://www.mathworks.com/help/matlab/matlab_prog/avoid-unnecessary-copies-of-data.html)\n",
    "  \n",
    "*Passing by reference* implies that the variable outside the function is also changed when the variable is modified within the function, since the object that is refered to is changed. In the \"variables are buckets\" interpretation this is easily understood as changing the variable in the bucket, with the bucket being passed to the function. This change will be visible also outside the function. This is how Fortran subroutines generally work (https://gcc.gnu.org/onlinedocs/gfortran/Argument-passing-conventions.html).\n",
    "  \n",
    "Python uses a different approach: *pass by assignment* (https://docs.python.org/3/faq/programming.html#how-do-i-write-a-function-with-output-parameters-call-by-reference).  In this appraoch,\n",
    "the fact that Python variables are not buckets, but references plays an important role. Also it matters if a variable is mutable or not.  \n",
    "  \n",
    "In Python the following rules apply (https://stackoverflow.com/questions/986006/how-do-i-pass-a-variable-by-reference):\n",
    "- If you pass a mutable object into a method, the method gets a reference to that same object and you can mutate it to your heart's delight, but if you rebind the reference in the method, the outer scope will know nothing about it, and after you're done, the outer reference will still point at the original object.\n",
    "- If you pass an immutable object to a method, you still can't rebind the outer reference, and you can't even mutate the object.\n"
   ]
  },
  {
   "cell_type": "code",
   "execution_count": 52,
   "metadata": {},
   "outputs": [
    {
     "name": "stdout",
     "output_type": "stream",
     "text": [
      "[2, 2, 3] 4463294272\n",
      "[2, 2, 3] 4463294272\n"
     ]
    }
   ],
   "source": [
    "def myfunc(a):\n",
    "    a[0] = 2\n",
    "    return a\n",
    "\n",
    "a = [1,2,3]\n",
    "b = myfunc(a) # both a and b are modified by the function\n",
    "\n",
    "print(a,id(a))\n",
    "print(b,id(b)) \n",
    "        "
   ]
  },
  {
   "cell_type": "markdown",
   "metadata": {},
   "source": [
    "It is important to note that this only happens when you *modify* the variable. Assigning a completely new value (also called \"rebinding\" by Pythonistas) to the variable will *not* change the value outside the function (since this will create a new object with a new id)"
   ]
  },
  {
   "cell_type": "code",
   "execution_count": 53,
   "metadata": {},
   "outputs": [
    {
     "name": "stdout",
     "output_type": "stream",
     "text": [
      "[1, 2, 3] 4462094400\n",
      "[4, 5] 4463430784\n"
     ]
    }
   ],
   "source": [
    "def myfunc2(a):\n",
    "    a = [4,5] # rebinding to a new list\n",
    "    return a\n",
    "\n",
    "a = [1,2,3]\n",
    "b = myfunc2(a) # a will not be changed since it is assigned to a new object inside the function\n",
    "\n",
    "print(a,id(a))\n",
    "print(b,id(b))"
   ]
  },
  {
   "cell_type": "markdown",
   "metadata": {},
   "source": [
    "Similarly, assigning a new value to immutable variables results in a new reference to a new object, this will not change the variable outside the function (outside the function, the variable \"a\" still refers to the original value, because nothing has changed it to refer to anything else)"
   ]
  },
  {
   "cell_type": "code",
   "execution_count": 54,
   "metadata": {},
   "outputs": [
    {
     "name": "stdout",
     "output_type": "stream",
     "text": [
      "4420243016\n",
      "4420243016\n",
      "4420243080\n",
      "4\n",
      "2\n"
     ]
    }
   ],
   "source": [
    "def print_square(x):\n",
    "    print(id(x)) # \n",
    "    x = x*x # x now refers to a new, different object\n",
    "    print(id(x))\n",
    "    print(x)\n",
    "\n",
    "a = 2\n",
    "print(id(a))\n",
    "print_square(a) \n",
    "print(a) # the value of a is not changed"
   ]
  },
  {
   "cell_type": "markdown",
   "metadata": {},
   "source": [
    "**Changing values of iterator**  \n",
    "The idea above on arguments in values carries over to Python iterators. In this case, what matters is if the objects *inside* the iterators are mutable or not:"
   ]
  },
  {
   "cell_type": "code",
   "execution_count": 55,
   "metadata": {},
   "outputs": [
    {
     "name": "stdout",
     "output_type": "stream",
     "text": [
      "initial list not changed: [1, 2, 3]\n"
     ]
    }
   ],
   "source": [
    "a = [1,2,3] # iterator composed of immutable objects\n",
    "for i in a:\n",
    "    i = 4 # this does not change the inital list\n",
    "print('initial list not changed:',a)"
   ]
  },
  {
   "cell_type": "code",
   "execution_count": 56,
   "metadata": {},
   "outputs": [
    {
     "name": "stdout",
     "output_type": "stream",
     "text": [
      "initial list changed: [[4], [4], [4]]\n"
     ]
    }
   ],
   "source": [
    "a = [[1],[2],[3]] # iterator composed of mutable objects\n",
    "for i in a:\n",
    "    i[0] = 4 # this does changes the initial list\n",
    "print('initial list changed:',a)"
   ]
  },
  {
   "cell_type": "markdown",
   "metadata": {},
   "source": [
    "Note: similarly to functions, changes to the variable only carry over outside the iteration when you *change* the variable. Assigning a completely new value to the variable will *not* change the value outside the iteration (since this will create a new object with a new id)"
   ]
  },
  {
   "cell_type": "code",
   "execution_count": 57,
   "metadata": {},
   "outputs": [
    {
     "name": "stdout",
     "output_type": "stream",
     "text": [
      "initial list not changed: [[1], [2], [3]]\n"
     ]
    }
   ],
   "source": [
    "a = [[1],[2],[3]] # iterator composed of mutable objects\n",
    "for i in a:\n",
    "    i = 4 # this does not changes the initial list\n",
    "print('initial list not changed:',a)"
   ]
  },
  {
   "cell_type": "markdown",
   "metadata": {},
   "source": [
    "**Default values evaluated only once** (from: https://docs.python.org/3/tutorial/controlflow.html#default-argument-values)  \n",
    "  \n",
    "Important warning: The default value is evaluated only once. This makes a difference when the default is a mutable object such as a list, dictionary, or instances of most classes. For example, the following function accumulates the arguments passed to it on subsequent calls:"
   ]
  },
  {
   "cell_type": "code",
   "execution_count": 58,
   "metadata": {},
   "outputs": [
    {
     "name": "stdout",
     "output_type": "stream",
     "text": [
      "[1]\n",
      "[1, 2]\n",
      "[1, 2, 3]\n"
     ]
    }
   ],
   "source": [
    "def f(a, L=[]):\n",
    "    L.append(a)\n",
    "    return L\n",
    "\n",
    "print(f(1))\n",
    "print(f(2))\n",
    "print(f(3))"
   ]
  },
  {
   "cell_type": "markdown",
   "metadata": {},
   "source": [
    "If you don’t want the default to be shared between subsequent calls, you can write the function like this instead:"
   ]
  },
  {
   "cell_type": "code",
   "execution_count": 59,
   "metadata": {},
   "outputs": [
    {
     "name": "stdout",
     "output_type": "stream",
     "text": [
      "[1]\n",
      "[2]\n",
      "[3]\n"
     ]
    }
   ],
   "source": [
    "def f(a, L=None):\n",
    "    if L is None:\n",
    "        L = []\n",
    "    L.append(a)\n",
    "    return L\n",
    "\n",
    "print(f(1))\n",
    "print(f(2))\n",
    "print(f(3))"
   ]
  },
  {
   "cell_type": "markdown",
   "metadata": {},
   "source": [
    "**Truth Value Testing** (from: https://docs.python.org/3/library/stdtypes.html#truth-value-testing)  \n",
    "  \n",
    "Any object can be tested for truth value, for use in an if or while condition or as operand of the Boolean operations below.\n",
    "\n",
    "By default, an object is considered true unless its class defines either a __bool__() method that returns False or a __len__() method that returns zero, when called with the object. 1 Here are most of the built-in objects considered false:\n",
    "\n",
    "* constants defined to be false: None and False  \n",
    "* zero of any numeric type: 0, 0.0, 0j, Decimal(0), Fraction(0, 1)  \n",
    "* empty sequences and collections: '', (), [], {}, set(), range(0)  \n",
    "* Operations and built-in functions that have a Boolean result always return 0 or False for false and 1 or True for true, unless otherwise stated. (Important exception: the Boolean operations or and and always return one of their operands.)"
   ]
  },
  {
   "cell_type": "code",
   "execution_count": 60,
   "metadata": {},
   "outputs": [
    {
     "name": "stdout",
     "output_type": "stream",
     "text": [
      "var == True\n",
      "var\n"
     ]
    }
   ],
   "source": [
    "# taken from: https://stackoverflow.com/questions/1011431/common-pitfalls-in-python\n",
    "\n",
    "var = 1\n",
    "\n",
    "if (var == True) :\n",
    "    # this will execute if var is True or 1, 1.0, 1L\n",
    "    print('var == True')\n",
    "\n",
    "if (var != True) :\n",
    "    # this will execute if var is neither True nor 1\n",
    "    print('var != True')\n",
    "\n",
    "if (var == False) :\n",
    "    # this will execute if var is False or 0 (or 0.0, 0L, 0j)\n",
    "    print('var == False')\n",
    "\n",
    "if (var == None) :\n",
    "    # only execute if var is None\n",
    "    print('var == Non')\n",
    "\n",
    "if var :\n",
    "    # execute if var is a non-empty string/list/dictionary/tuple, non-0, etc\n",
    "    print('var')\n",
    "\n",
    "if not var :\n",
    "    # execute if var is \"\", {}, [], (), 0, None, etc.\n",
    "    print('not var')\n",
    "\n",
    "if var is True :\n",
    "    # only execute if var is boolean True, not 1\n",
    "    print('var is True')\n",
    "\n",
    "if var is False :\n",
    "    # only execute if var is boolean False, not 0\n",
    "    print('var is False')\n",
    "\n",
    "if var is None :\n",
    "    # same as var == None\n",
    "    print('var is None')\n"
   ]
  },
  {
   "cell_type": "markdown",
   "metadata": {},
   "source": [
    "**\"is\" vs \"==\"**  \n",
    "The symbol \"==\" is used to compare variables based on their value, and the keword \"is\" is used to compare the id of objects:"
   ]
  },
  {
   "cell_type": "code",
   "execution_count": 61,
   "metadata": {},
   "outputs": [
    {
     "name": "stdout",
     "output_type": "stream",
     "text": [
      "4463418880\n",
      "4463431616\n",
      "True\n",
      "False\n"
     ]
    }
   ],
   "source": [
    "a = [1,2,3]\n",
    "b = [1,2,3]\n",
    "print(id(a))\n",
    "print(id(b))\n",
    "print(a==b)\n",
    "print(a is b)"
   ]
  },
  {
   "cell_type": "markdown",
   "metadata": {},
   "source": [
    "For most cases, the \"==\" symbol is the most suitable. The most important use of the \"is\" keyword is to check if a has a value of \"None\" (or a null value, so no value at all), since \"==\" might be overridden by a class"
   ]
  },
  {
   "cell_type": "code",
   "execution_count": 62,
   "metadata": {},
   "outputs": [
    {
     "name": "stdout",
     "output_type": "stream",
     "text": [
      "True\n"
     ]
    }
   ],
   "source": [
    "y = None\n",
    "print(str(y is None))"
   ]
  }
 ],
 "metadata": {
  "kernelspec": {
   "display_name": "venv",
   "language": "python",
   "name": "python3"
  },
  "language_info": {
   "codemirror_mode": {
    "name": "ipython",
    "version": 3
   },
   "file_extension": ".py",
   "mimetype": "text/x-python",
   "name": "python",
   "nbconvert_exporter": "python",
   "pygments_lexer": "ipython3",
   "version": "3.11.3"
  },
  "orig_nbformat": 4
 },
 "nbformat": 4,
 "nbformat_minor": 2
}
