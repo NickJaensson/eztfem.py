{
 "cells": [
  {
   "cell_type": "markdown",
   "metadata": {},
   "source": [
    "\n",
    "\n",
    "This file contains a number of Python oddities, especially for someone with a Fortran/Matlab background. This list is by no means complete, but should give somone beginning with Python an idea what to look out for."
   ]
  },
  {
   "cell_type": "markdown",
   "metadata": {},
   "source": [
    "**Python variables are references**  \n",
    "In Fortran/Matlab a variable can be seen as a bucket containing a object of a certain type and value. The variable and the object are one and the same thing in this approach.\n",
    "\n",
    "In Python, a variable is always a *reference* to an object (hence we often use \"name\" instead of \"variable\"). The value of the variable is the value of the object it refers to. Objects in Python are either immutable or mutable."
   ]
  },
  {
   "cell_type": "markdown",
   "metadata": {},
   "source": [
    "**Immutable objects**  \n",
    "Objects of the fundamental data-types (int, float, bool and string) are all *immutable*: changing the value of the object is not possible. Assigning a new value to a variable that refers to an immutable object has the consequence that the variable will refer to a new, different, object. This behavior is visible in the following simple example:"
   ]
  },
  {
   "cell_type": "code",
   "execution_count": 17,
   "metadata": {},
   "outputs": [
    {
     "name": "stdout",
     "output_type": "stream",
     "text": [
      "changing b does not change a: 1 2\n"
     ]
    }
   ],
   "source": [
    "a = 1; \n",
    "b = a; \n",
    "b = 2; \n",
    "print('changing b does not change a:',a,b)\n",
    "c = 2"
   ]
  },
  {
   "cell_type": "markdown",
   "metadata": {},
   "source": [
    "Very useful is the id() function (from https://docs.python.org/3/library/functions.html#id): Return the “identity” of an object. This is an integer which is guaranteed to be unique and constant for this object during its lifetime. Two objects with non-overlapping lifetimes may have the same id() value. *CPython implementation detail: This is the address of the object in memory.*"
   ]
  },
  {
   "cell_type": "code",
   "execution_count": 18,
   "metadata": {},
   "outputs": [
    {
     "name": "stdout",
     "output_type": "stream",
     "text": [
      "id(a) = 4447071784\n",
      "id(b) = 4447071816\n",
      "id(c) = 4447071816\n"
     ]
    }
   ],
   "source": [
    "print('id(a) =',id(a))\n",
    "print('id(b) =',id(b)) # a and b refer to different objects (1 and 2)\n",
    "print('id(c) =',id(c)) # id(b)==id(c) since they both refer to 2"
   ]
  },
  {
   "cell_type": "markdown",
   "metadata": {},
   "source": [
    "A *tuple* is a container-like variable (can contain multiple, different, data-types) that is immutable:"
   ]
  },
  {
   "cell_type": "code",
   "execution_count": 19,
   "metadata": {},
   "outputs": [
    {
     "name": "stdout",
     "output_type": "stream",
     "text": [
      "1\n"
     ]
    }
   ],
   "source": [
    "a = 1, 2.0 # tuples are created using a comma (parentheses () are optional!)\n",
    "print(a[0])\n",
    "#a[0] = 2 # not allowed !"
   ]
  },
  {
   "cell_type": "markdown",
   "metadata": {},
   "source": [
    "**Mutable objects**  \n",
    "Python also has a other \"container-like\" data types (list, dict and set). At the deepest level, these will always contain objects of the fundamental (immutable) data-types, but the containers themselves are *mutable*: changing the variable can be interpreted as changing the value of the object to which the variable refers:"
   ]
  },
  {
   "cell_type": "code",
   "execution_count": 20,
   "metadata": {},
   "outputs": [
    {
     "name": "stdout",
     "output_type": "stream",
     "text": [
      "[1, 2, 3] 4495542464\n",
      "[2, 2, 3] 4495542464\n"
     ]
    }
   ],
   "source": [
    "lst = [1,2,3]\n",
    "print(lst,id(lst))\n",
    "lst[0] = 2\n",
    "print(lst,id(lst)) # value changed but ID remained the same"
   ]
  },
  {
   "cell_type": "markdown",
   "metadata": {},
   "source": [
    "An important behavior in python is that assigning a new variable to an existing *mutable* variable only creates an alias! Thus changing the value of the object to which is being referred will be visible in both variables:"
   ]
  },
  {
   "cell_type": "code",
   "execution_count": 30,
   "metadata": {},
   "outputs": [
    {
     "name": "stdout",
     "output_type": "stream",
     "text": [
      "[2, 2, 3]\n",
      "4495631936\n",
      "4495631936\n"
     ]
    }
   ],
   "source": [
    "lst = [1,2,3]\n",
    "lst2 = lst\n",
    "lst[0] = 2\n",
    "print(lst)\n",
    "print(id(lst))\n",
    "print(id(lst2)) # lst and lst2 refer to the same object"
   ]
  },
  {
   "cell_type": "markdown",
   "metadata": {},
   "source": [
    "**Changing arguments of function**  \n",
    "Generally, there are two ways to pass arguments to a function: by value, or by reference.  \n",
    "  \n",
    "*Passing by value* is easiest interpreted as making a copy of the argument as it enters the function. Modifying the variable therefore does not change the variable outside the functions. This is how Matlab function work, but note that in practice a copy is only needed if the variable is modified. Output variables need to be explicitly specified.\n",
    "  \n",
    "*Passing by reference* implies that the variable outside the function is also changed when the variable is modified within the function, since the object that is refered to is changed. In the \"variables are buckets\" interpretation this is easily understood as changing the variable in the bucket, with the bucket being passed to the function. This change will be visible also outside the function. This is how Fortran works (where additional tools are used to specify INTENT of variables.)  \n",
    "  \n",
    "The fact that Python variables are not buckets, but references changes things up. The important part is to known whether passed variables are mutable or not. Changing a mutable variable inside a function has the result that the variable is also changed outside the function:"
   ]
  },
  {
   "cell_type": "code",
   "execution_count": 3,
   "metadata": {},
   "outputs": [
    {
     "name": "stdout",
     "output_type": "stream",
     "text": [
      "[2, 2, 3] 4463085120\n",
      "[2, 2, 3] 4463085120\n"
     ]
    }
   ],
   "source": [
    "def myfunc(a):\n",
    "    a[0] = 2\n",
    "    return a\n",
    "\n",
    "a = [1,2,3]\n",
    "b = myfunc(a) # both a and b are modified by the function\n",
    "\n",
    "print(a,id(a))\n",
    "print(b,id(b)) \n",
    "        "
   ]
  },
  {
   "cell_type": "markdown",
   "metadata": {},
   "source": [
    "It is important to note that this only happens when you *change* the variable. Assigning a completely new value to the variable will *not* change the value outside the function (since this will create a new object with a new id)"
   ]
  },
  {
   "cell_type": "code",
   "execution_count": 5,
   "metadata": {},
   "outputs": [
    {
     "name": "stdout",
     "output_type": "stream",
     "text": [
      "[1, 2, 3] 4462955840\n",
      "[4, 5] 4462549312\n"
     ]
    }
   ],
   "source": [
    "def myfunc2(a):\n",
    "    a = [4,5]\n",
    "    return a\n",
    "\n",
    "a = [1,2,3]\n",
    "b = myfunc2(a) # a will not be changed since it is assigned to a new object inside the function\n",
    "\n",
    "print(a,id(a))\n",
    "print(b,id(b))"
   ]
  },
  {
   "cell_type": "markdown",
   "metadata": {},
   "source": [
    "Similarly, assigning a new value to immutable variables results in a new reference to a new object, this will not change the variable outside the function (outside the function, the variable \"a\" still refers to the original value, because nothing has changed it to refer to anything else)"
   ]
  },
  {
   "cell_type": "code",
   "execution_count": 39,
   "metadata": {},
   "outputs": [
    {
     "name": "stdout",
     "output_type": "stream",
     "text": [
      "4447071816\n",
      "4447071816\n",
      "4447071880\n",
      "4\n",
      "2\n"
     ]
    }
   ],
   "source": [
    "def print_square(x):\n",
    "    print(id(x)) # \n",
    "    x = x*x # x now refers to a new, different object\n",
    "    print(id(x))\n",
    "    print(x)\n",
    "\n",
    "a = 2\n",
    "print(id(a))\n",
    "print_square(a) \n",
    "print(a) # the value of a is not changed"
   ]
  },
  {
   "cell_type": "markdown",
   "metadata": {},
   "source": [
    "**Changing values of iterator**  \n",
    "The idea above on arguments in values carries over to Python iterators. In this case, what matters is if the objects *inside* the iterators are mutable or not:"
   ]
  },
  {
   "cell_type": "code",
   "execution_count": 10,
   "metadata": {},
   "outputs": [
    {
     "name": "stdout",
     "output_type": "stream",
     "text": [
      "initial list not change: [1, 2, 3]\n"
     ]
    }
   ],
   "source": [
    "a = [1,2,3] # iterator composed of immutable objects\n",
    "for i in a:\n",
    "    i = 4 # this does not change the inital list\n",
    "print('initial list not changed:',a)"
   ]
  },
  {
   "cell_type": "code",
   "execution_count": 11,
   "metadata": {},
   "outputs": [
    {
     "name": "stdout",
     "output_type": "stream",
     "text": [
      "initial list changed: [[4], [4], [4]]\n"
     ]
    }
   ],
   "source": [
    "a = [[1],[2],[3]] # iterator composed of mutable objects\n",
    "for i in a:\n",
    "    i[0] = 4 # this does changes the initial list\n",
    "print('initial list changed:',a)"
   ]
  },
  {
   "cell_type": "markdown",
   "metadata": {},
   "source": [
    "Note: similarly to functions, changes to the variable only carry over outside the iteration when you *change* the variable. Assigning a completely new value to the variable will *not* change the value outside the iteration (since this will create a new object with a new id)"
   ]
  },
  {
   "cell_type": "code",
   "execution_count": 12,
   "metadata": {},
   "outputs": [
    {
     "name": "stdout",
     "output_type": "stream",
     "text": [
      "initial list not change: [[1], [2], [3]]\n"
     ]
    }
   ],
   "source": [
    "a = [[1],[2],[3]] # iterator composed of mutable objects\n",
    "for i in a:\n",
    "    i = 4 # this does not changes the initial list\n",
    "print('initial list not changed:',a)"
   ]
  },
  {
   "cell_type": "markdown",
   "metadata": {},
   "source": [
    "**Default values evaluated only once**"
   ]
  },
  {
   "cell_type": "markdown",
   "metadata": {},
   "source": []
  },
  {
   "cell_type": "markdown",
   "metadata": {},
   "source": [
    "**Truth Value Testing** (from: https://docs.python.org/3/library/stdtypes.html#truth-value-testing)  \n",
    "  \n",
    "Any object can be tested for truth value, for use in an if or while condition or as operand of the Boolean operations below.\n",
    "\n",
    "By default, an object is considered true unless its class defines either a __bool__() method that returns False or a __len__() method that returns zero, when called with the object. 1 Here are most of the built-in objects considered false:\n",
    "\n",
    "* constants defined to be false: None and False  \n",
    "* zero of any numeric type: 0, 0.0, 0j, Decimal(0), Fraction(0, 1)  \n",
    "* empty sequences and collections: '', (), [], {}, set(), range(0)  \n",
    "* Operations and built-in functions that have a Boolean result always return 0 or False for false and 1 or True for true, unless otherwise stated. (Important exception: the Boolean operations or and and always return one of their operands.)"
   ]
  },
  {
   "cell_type": "markdown",
   "metadata": {},
   "source": []
  }
 ],
 "metadata": {
  "kernelspec": {
   "display_name": "venv",
   "language": "python",
   "name": "python3"
  },
  "language_info": {
   "codemirror_mode": {
    "name": "ipython",
    "version": 3
   },
   "file_extension": ".py",
   "mimetype": "text/x-python",
   "name": "python",
   "nbconvert_exporter": "python",
   "pygments_lexer": "ipython3",
   "version": "3.11.3"
  },
  "orig_nbformat": 4
 },
 "nbformat": 4,
 "nbformat_minor": 2
}
