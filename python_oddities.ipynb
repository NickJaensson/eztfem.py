{
 "cells": [
  {
   "cell_type": "markdown",
   "metadata": {},
   "source": [
    "\n",
    "\n",
    "This file contains a number of Python oddities, especially for somone with a Fortran / Matlab background. This list is by no means complete, but should give somone beginning with Python an idea what to look out for."
   ]
  },
  {
   "cell_type": "markdown",
   "metadata": {},
   "source": [
    "**Python variables are references**  \n",
    "In many other languages (C++, Fortran, Matlab) a variable can be seen as a bucket containing a object of a certain type and value. The variable and the object are one and the same thing in this approach.\n",
    "\n",
    "In Python, a variable is always a *reference* to an object (hence we often use \"name\" instead of \"variable\"). The value of the variable is the value of the object it refers to. Objects in Python is either immutable or mutable."
   ]
  },
  {
   "cell_type": "markdown",
   "metadata": {},
   "source": [
    "**Immutable objects**  \n",
    "Objects of the fundamental data-types (int, float, bool and string) are all *immutable*: changing the value of the object is not possible. Assigning a new value to a variable that refers to an immutable object has the consequence that the variable will refer to a new, different, object. This behavior is visible in the following simple example:"
   ]
  },
  {
   "cell_type": "code",
   "execution_count": 5,
   "metadata": {},
   "outputs": [
    {
     "name": "stdout",
     "output_type": "stream",
     "text": [
      "changing b does not change a: 1 2\n"
     ]
    }
   ],
   "source": [
    "a = 1; \n",
    "b = a; \n",
    "b = 2; \n",
    "print('changing b does not change a:',a,b)\n",
    "c = 2"
   ]
  },
  {
   "cell_type": "markdown",
   "metadata": {},
   "source": [
    "Very useful is the id() function (from https://docs.python.org/3/library/functions.html#id): Return the “identity” of an object. This is an integer which is guaranteed to be unique and constant for this object during its lifetime. Two objects with non-overlapping lifetimes may have the same id() value. *CPython implementation detail: This is the address of the object in memory.*"
   ]
  },
  {
   "cell_type": "code",
   "execution_count": 6,
   "metadata": {},
   "outputs": [
    {
     "name": "stdout",
     "output_type": "stream",
     "text": [
      "id(a) = 4447071784\n",
      "id(b) = 4447071816\n",
      "id(c) = 4447071816\n"
     ]
    }
   ],
   "source": [
    "print('id(a) =',id(a))\n",
    "print('id(b) =',id(b)) # a and b refer to different objects (1 and 2)\n",
    "print('id(c) =',id(c)) # id(b)==id(c) since they both refer to 2"
   ]
  },
  {
   "cell_type": "markdown",
   "metadata": {},
   "source": [
    "**Mutable objects**  \n",
    "Python also has a number of \"container-like\" data types (list, dict and set). At the deepest level, these will always contain objects of the fundamental (immutable) data-types, but the containers themselves are *mutable*: changing the variable can be interpreted as changing the value of the object to which the variable refers:"
   ]
  },
  {
   "cell_type": "code",
   "execution_count": 16,
   "metadata": {},
   "outputs": [
    {
     "name": "stdout",
     "output_type": "stream",
     "text": [
      "[1, 2, 3] 4495787648\n",
      "[2, 2, 3] 4495787648\n"
     ]
    }
   ],
   "source": [
    "lst = [1,2,3]\n",
    "print(lst,id(lst))\n",
    "lst[0] = 2\n",
    "print(lst,id(lst)) # value changed but ID remained the same"
   ]
  },
  {
   "cell_type": "markdown",
   "metadata": {},
   "source": [
    "An important behavior in python is that assigning a new variable to an existing mutable variable only creates an alias! Thus changing the value of the object to which is being referred will be visible in both variables:"
   ]
  },
  {
   "cell_type": "code",
   "execution_count": null,
   "metadata": {},
   "outputs": [],
   "source": [
    "lst = [1,2,3]\n",
    "print(id(lst))\n",
    "lst[0] = 2\n",
    "print(id(lst))"
   ]
  },
  {
   "cell_type": "markdown",
   "metadata": {},
   "source": [
    "A *tuple* is a container-like variable that is immutable:"
   ]
  },
  {
   "cell_type": "code",
   "execution_count": 15,
   "metadata": {},
   "outputs": [
    {
     "name": "stdout",
     "output_type": "stream",
     "text": [
      "1\n"
     ]
    }
   ],
   "source": [
    "a = 1, 2.0 # tuples are created using a comma (parentheses () are optional!)\n",
    "print(a[0])\n",
    "#a[0] = 2 # not allowed !"
   ]
  },
  {
   "cell_type": "markdown",
   "metadata": {},
   "source": [
    "**Copying of variables**  \n",
    "Rule of thumb: copying a mutable variable should be interpreted as making an alias, whereas copying a immuatable variable makes it point to a new object!"
   ]
  },
  {
   "cell_type": "code",
   "execution_count": 10,
   "metadata": {},
   "outputs": [
    {
     "name": "stdout",
     "output_type": "stream",
     "text": [
      "[2, 2, 3]\n"
     ]
    }
   ],
   "source": [
    "lst = [1,2,3]\n",
    "lst2 = lst\n",
    "lst2[0] = 2\n",
    "print(lst)"
   ]
  },
  {
   "cell_type": "markdown",
   "metadata": {},
   "source": [
    "**Changing arguments of function**"
   ]
  },
  {
   "cell_type": "code",
   "execution_count": 78,
   "metadata": {},
   "outputs": [
    {
     "name": "stdout",
     "output_type": "stream",
     "text": [
      "[1, 2, 3]\n",
      "[4, 4, 4]\n"
     ]
    }
   ],
   "source": [
    "def make_four(a):\n",
    "    a = [4 for i in a]\n",
    "    return a\n",
    "\n",
    "a = [1,2,3]\n",
    "b = make_four(a)\n",
    "\n",
    "print(a)\n",
    "print(b)\n",
    "        "
   ]
  },
  {
   "cell_type": "code",
   "execution_count": 80,
   "metadata": {},
   "outputs": [
    {
     "name": "stdout",
     "output_type": "stream",
     "text": [
      "[[1], [2], [3]]\n",
      "[4, 4, 4]\n"
     ]
    }
   ],
   "source": [
    "def make_four_list(a):\n",
    "    a = [[4] for i in a]\n",
    "    return a\n",
    "\n",
    "a = [[1],[2],[3]]\n",
    "b = make_four(a)\n",
    "\n",
    "print(a)\n",
    "print(b)"
   ]
  },
  {
   "cell_type": "markdown",
   "metadata": {},
   "source": [
    "**Changing values of iterator**\n",
    "What matter is if the objects in the iterators are mutable or not!"
   ]
  },
  {
   "cell_type": "code",
   "execution_count": 67,
   "metadata": {},
   "outputs": [
    {
     "name": "stdout",
     "output_type": "stream",
     "text": [
      "[1, 2, 3]\n"
     ]
    }
   ],
   "source": [
    "a = [1,2,3] # iterator composed of immutable objects\n",
    "for i in a:\n",
    "    i = 4 # this does not change the inital list\n",
    "print(a)"
   ]
  },
  {
   "cell_type": "code",
   "execution_count": 68,
   "metadata": {},
   "outputs": [
    {
     "name": "stdout",
     "output_type": "stream",
     "text": [
      "[4, 4, 4]\n"
     ]
    }
   ],
   "source": [
    "a = [1,2,3] # iterator composed of immutable objects\n",
    "for i, _ in enumerate(a):\n",
    "    a[i] = 4\n",
    "print(a)"
   ]
  },
  {
   "cell_type": "code",
   "execution_count": 69,
   "metadata": {},
   "outputs": [
    {
     "name": "stdout",
     "output_type": "stream",
     "text": [
      "[[4], [4], [4]]\n"
     ]
    }
   ],
   "source": [
    "a = [[1],[2],[3]] # iterator composed of mutable objects\n",
    "for i in a:\n",
    "    i[0] = 4 # this changes the initial list\n",
    "print(a)"
   ]
  },
  {
   "cell_type": "markdown",
   "metadata": {},
   "source": [
    "**Default values evaluated only once**"
   ]
  },
  {
   "cell_type": "markdown",
   "metadata": {},
   "source": []
  },
  {
   "cell_type": "markdown",
   "metadata": {},
   "source": [
    "**Truth Value Testing** (from: https://docs.python.org/3/library/stdtypes.html#truth-value-testing)  \n",
    "  \n",
    "Any object can be tested for truth value, for use in an if or while condition or as operand of the Boolean operations below.\n",
    "\n",
    "By default, an object is considered true unless its class defines either a __bool__() method that returns False or a __len__() method that returns zero, when called with the object. 1 Here are most of the built-in objects considered false:\n",
    "\n",
    "* constants defined to be false: None and False  \n",
    "* zero of any numeric type: 0, 0.0, 0j, Decimal(0), Fraction(0, 1)  \n",
    "* empty sequences and collections: '', (), [], {}, set(), range(0)  \n",
    "* Operations and built-in functions that have a Boolean result always return 0 or False for false and 1 or True for true, unless otherwise stated. (Important exception: the Boolean operations or and and always return one of their operands.)"
   ]
  },
  {
   "cell_type": "markdown",
   "metadata": {},
   "source": []
  }
 ],
 "metadata": {
  "kernelspec": {
   "display_name": "venv",
   "language": "python",
   "name": "python3"
  },
  "language_info": {
   "codemirror_mode": {
    "name": "ipython",
    "version": 3
   },
   "file_extension": ".py",
   "mimetype": "text/x-python",
   "name": "python",
   "nbconvert_exporter": "python",
   "pygments_lexer": "ipython3",
   "version": "3.11.3"
  },
  "orig_nbformat": 4
 },
 "nbformat": 4,
 "nbformat_minor": 2
}
